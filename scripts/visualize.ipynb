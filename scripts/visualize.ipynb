{
 "cells": [
  {
   "cell_type": "code",
   "execution_count": null,
   "id": "fb069deb",
   "metadata": {},
   "outputs": [],
   "source": [
    "from utils import *\n",
    "\n",
    "networkpath = '../'\n",
    "# networkpath = 'scenarios/random_grid/'\n",
    "\n",
    "g, mapping, nodes, edges = network2graph(f'../sumo_config/SimpleRandom.net.xml')"
   ]
  },
  {
   "cell_type": "code",
   "execution_count": null,
   "id": "3df08526",
   "metadata": {},
   "outputs": [],
   "source": [
    "# source = 1071\n",
    "# sink = 1499\n",
    "\n",
    "# source = 799\n",
    "# sink = 838\n",
    "# k = 3\n",
    "# get_paths(g, source, sink, mapping, k=k, output_sumo=True)\n",
    "\n",
    "import json \n",
    "\n",
    "with open('../sumo_config/Routes.json', \"rb\") as f:\n",
    "    paths = json.load(f)\n",
    "paths = list(paths.values())[::2]"
   ]
  },
  {
   "cell_type": "code",
   "execution_count": null,
   "id": "8f4838e0",
   "metadata": {},
   "outputs": [],
   "source": [
    "# import sumolib\n",
    "\n",
    "# net = sumolib.net.readNet(f'SimpleRandom.net.xml')\n",
    "# # getFastestPath(self, fromEdge, toEdge, maxCost=inf, vClass=None, reversalPenalty=0, includeFromToCost=True, withInternal=False, ignoreDirection=False, fromPos=None, toPos=None)\n",
    "# # Finds the fastest path from fromEdge to toEdge respecting vClass, using Dijkstra's algorithm.\n",
    "# # It returns a pair of a tuple of edges and the cost. If no path is found the first element is None.\n",
    "# # The cost for the returned path is equal to the sum of all edge costs in the path,\n",
    "# # including the internal connectors, if they are present in the network.\n",
    "# # The path itself does not include internal edges except for the case\n",
    "# # when the start or end edge are internal edges.\n",
    "# # The search may be limited using the given threshold."
   ]
  },
  {
   "cell_type": "code",
   "execution_count": null,
   "id": "d2a6a820",
   "metadata": {},
   "outputs": [],
   "source": [
    "import matplotlib.pyplot as plt\n",
    "import seaborn as sns"
   ]
  },
  {
   "cell_type": "code",
   "execution_count": null,
   "id": "67e629cb",
   "metadata": {},
   "outputs": [],
   "source": [
    "from shapely.geometry import LineString\n",
    "\n",
    "def makeline(x):\n",
    "    if 'edges' in x:\n",
    "        pass\n",
    "    else:\n",
    "        ls = []\n",
    "        for p in [x.edge_from, x.edge_to]:\n",
    "            n_idx = mapping[p]\n",
    "            node = nodes.iloc[n_idx]\n",
    "            ls.append([node.node_x, node.node_y])\n",
    "        return LineString(ls)\n",
    "edges['geometry'] = edges.apply(makeline, axis=1)"
   ]
  },
  {
   "cell_type": "code",
   "execution_count": null,
   "id": "a0c19398",
   "metadata": {},
   "outputs": [],
   "source": [
    "import geopandas as gpd\n",
    "edges = gpd.GeoDataFrame(edges)"
   ]
  },
  {
   "cell_type": "code",
   "execution_count": null,
   "id": "ad4f0c6e",
   "metadata": {},
   "outputs": [],
   "source": [
    "edges = edges.set_index('edge_id')"
   ]
  },
  {
   "cell_type": "code",
   "execution_count": null,
   "id": "fc4a02b7",
   "metadata": {},
   "outputs": [],
   "source": [
    "import seaborn as sns\n",
    "fig, ax = plt.subplots(dpi=300)\n",
    "ax.axis('off')\n",
    "scp = sns.color_palette(n_colors=len(paths))\n",
    "edges.plot(ax=ax, color='0.3', linewidth=0.7, zorder=-10)\n",
    "\n",
    "ls = ['solid', 'dashed', 'dotted']\n",
    "zorders = [-1,0,1]\n",
    "for i, path in enumerate(paths):\n",
    "    edges.loc[path].plot(ax=ax, color=scp[i], label=f'path_{i}', linestyle=ls[i%len(ls)], zorder=zorders[i%len(zorders)])\n",
    "#     edges.iloc[paths].plot(ax=ax, color=scp[2])\n",
    "ax.legend(fontsize=5)"
   ]
  },
  {
   "cell_type": "code",
   "execution_count": null,
   "id": "e8886c24",
   "metadata": {},
   "outputs": [],
   "source": []
  }
 ],
 "metadata": {
  "kernelspec": {
   "display_name": "Python 3 (ipykernel)",
   "language": "python",
   "name": "python3"
  },
  "language_info": {
   "codemirror_mode": {
    "name": "ipython",
    "version": 3
   },
   "file_extension": ".py",
   "mimetype": "text/x-python",
   "name": "python",
   "nbconvert_exporter": "python",
   "pygments_lexer": "ipython3",
   "version": "3.10.8"
  },
  "vscode": {
   "interpreter": {
    "hash": "90ecbfe484674de8f9312065642a8dc62472c6d2f9bf411a0ba0998b836e3fa4"
   }
  }
 },
 "nbformat": 4,
 "nbformat_minor": 5
}
